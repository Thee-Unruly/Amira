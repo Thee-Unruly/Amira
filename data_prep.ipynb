{
 "cells": [
  {
   "cell_type": "markdown",
   "metadata": {},
   "source": [
    "### Data Preparation\n"
   ]
  },
  {
   "cell_type": "code",
   "execution_count": null,
   "metadata": {},
   "outputs": [],
   "source": [
    "import json\n",
    "import csv\n",
    "\n",
    "# Load the dataset\n",
    "with open('mental_health_conversational_dataset.json', 'r', encoding='utf-8') as file:\n",
    "    data = json.load(file)\n",
    "\n",
    "# Open a CSV file for writing\n",
    "with open('mental_health_faq.csv', 'w', newline='', encoding='utf-8') as csvfile:\n",
    "    writer = csv.writer(csvfile)\n",
    "\n",
    "    # Write the header row\n",
    "    writer.writerow(['Question', 'Answer'])\n",
    "\n",
    "    # Iterate over the rows and split the text into question and answer\n",
    "    for item in data['rows']:\n",
    "        text = item['row']['text']\n",
    "        question, answer = text.split('<ASSISTANT>:', 1)\n",
    "        question = question.replace('<HUMAN>:', '').strip()\n",
    "        answer = answer.strip()\n",
    "        writer.writerow([question, answer])\n"
   ]
  }
 ],
 "metadata": {
  "kernelspec": {
   "display_name": "Python 3",
   "language": "python",
   "name": "python3"
  },
  "language_info": {
   "codemirror_mode": {
    "name": "ipython",
    "version": 3
   },
   "file_extension": ".py",
   "mimetype": "text/x-python",
   "name": "python",
   "nbconvert_exporter": "python",
   "pygments_lexer": "ipython3",
   "version": "3.12.4"
  }
 },
 "nbformat": 4,
 "nbformat_minor": 2
}
